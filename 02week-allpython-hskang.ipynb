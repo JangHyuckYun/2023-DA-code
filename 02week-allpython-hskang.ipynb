{
 "cells": [
  {
   "cell_type": "code",
   "execution_count": 1,
   "id": "87bee7a4",
   "metadata": {},
   "outputs": [],
   "source": [
    "birth = 20220820"
   ]
  },
  {
   "cell_type": "code",
   "execution_count": 2,
   "id": "5adae602",
   "metadata": {},
   "outputs": [],
   "source": [
    "birth = 2002"
   ]
  },
  {
   "cell_type": "code",
   "execution_count": 3,
   "id": "6a4b8190",
   "metadata": {},
   "outputs": [
    {
     "data": {
      "text/plain": [
       "22"
      ]
     },
     "execution_count": 3,
     "metadata": {},
     "output_type": "execute_result"
    }
   ],
   "source": [
    "2024 - int(birth)"
   ]
  },
  {
   "cell_type": "code",
   "execution_count": 4,
   "id": "7f7fe935",
   "metadata": {},
   "outputs": [
    {
     "ename": "SyntaxError",
     "evalue": "EOL while scanning string literal (4180730566.py, line 1)",
     "output_type": "error",
     "traceback": [
      "\u001b[1;36m  File \u001b[1;32m\"C:\\Users\\102\\AppData\\Local\\Temp\\ipykernel_27656\\4180730566.py\"\u001b[1;36m, line \u001b[1;32m1\u001b[0m\n\u001b[1;33m    print(2024 - int(birth), 'ㅅ\u001b[0m\n\u001b[1;37m                               ^\u001b[0m\n\u001b[1;31mSyntaxError\u001b[0m\u001b[1;31m:\u001b[0m EOL while scanning string literal\n"
     ]
    }
   ],
   "source": [
    "print(2024 - int(birth), 'ㅅ\n",
    "      ')"
   ]
  },
  {
   "cell_type": "code",
   "execution_count": 5,
   "id": "fb674a56",
   "metadata": {},
   "outputs": [
    {
     "name": "stdout",
     "output_type": "stream",
     "text": [
      "이름을 입력하세요윤장혁\n"
     ]
    }
   ],
   "source": [
    "name = input(\"이름을 입력하세요\")"
   ]
  },
  {
   "cell_type": "code",
   "execution_count": 6,
   "id": "c5df3925",
   "metadata": {},
   "outputs": [
    {
     "name": "stdout",
     "output_type": "stream",
     "text": [
      "출생 년도를 입력하세요.2002\n"
     ]
    }
   ],
   "source": [
    "birth = input(\"출생 년도를 입력하세요.\")"
   ]
  },
  {
   "cell_type": "code",
   "execution_count": 7,
   "id": "ad3a5d65",
   "metadata": {},
   "outputs": [],
   "source": [
    "age = 2022 - int(birth)"
   ]
  },
  {
   "cell_type": "code",
   "execution_count": 8,
   "id": "e5e85405",
   "metadata": {},
   "outputs": [
    {
     "name": "stdout",
     "output_type": "stream",
     "text": [
      "안녕하세요!윤장혁님!20세이시군요!\n"
     ]
    }
   ],
   "source": [
    "print(\"안녕하세요!\" + name + '님!' + str(age) + '세이시군요!')"
   ]
  },
  {
   "cell_type": "code",
   "execution_count": 9,
   "id": "ec9dac10",
   "metadata": {},
   "outputs": [],
   "source": [
    "import random"
   ]
  },
  {
   "cell_type": "code",
   "execution_count": 11,
   "id": "c816b0f1",
   "metadata": {},
   "outputs": [],
   "source": [
    "dice = random.randint(1, 6)"
   ]
  },
  {
   "cell_type": "code",
   "execution_count": 12,
   "id": "876917eb",
   "metadata": {},
   "outputs": [
    {
     "name": "stdout",
     "output_type": "stream",
     "text": [
      "3\n"
     ]
    }
   ],
   "source": [
    "print(dice)"
   ]
  },
  {
   "cell_type": "code",
   "execution_count": 13,
   "id": "92bf221e",
   "metadata": {},
   "outputs": [],
   "source": [
    "import math"
   ]
  },
  {
   "cell_type": "code",
   "execution_count": 14,
   "id": "e0f3d1b5",
   "metadata": {},
   "outputs": [
    {
     "name": "stdout",
     "output_type": "stream",
     "text": [
      "1.4142135623730951\n"
     ]
    }
   ],
   "source": [
    "print(math.sqrt(2))"
   ]
  },
  {
   "cell_type": "code",
   "execution_count": 15,
   "id": "be2d0d57",
   "metadata": {},
   "outputs": [
    {
     "name": "stdout",
     "output_type": "stream",
     "text": [
      "2.0\n"
     ]
    }
   ],
   "source": [
    "print(math.sqrt(4))"
   ]
  },
  {
   "cell_type": "code",
   "execution_count": 16,
   "id": "889f0a06",
   "metadata": {},
   "outputs": [
    {
     "data": {
      "text/plain": [
       "2.718281828459045"
      ]
     },
     "execution_count": 16,
     "metadata": {},
     "output_type": "execute_result"
    }
   ],
   "source": [
    "math.e\n"
   ]
  },
  {
   "cell_type": "code",
   "execution_count": null,
   "id": "a9170993",
   "metadata": {},
   "outputs": [],
   "source": []
  }
 ],
 "metadata": {
  "kernelspec": {
   "display_name": "Python 3 (ipykernel)",
   "language": "python",
   "name": "python3"
  },
  "language_info": {
   "codemirror_mode": {
    "name": "ipython",
    "version": 3
   },
   "file_extension": ".py",
   "mimetype": "text/x-python",
   "name": "python",
   "nbconvert_exporter": "python",
   "pygments_lexer": "ipython3",
   "version": "3.9.13"
  }
 },
 "nbformat": 4,
 "nbformat_minor": 5
}
