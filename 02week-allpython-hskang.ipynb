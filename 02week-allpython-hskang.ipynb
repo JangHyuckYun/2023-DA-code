{
 "cells": [
  {
   "cell_type": "code",
   "execution_count": 1,
   "id": "22ee7008",
   "metadata": {},
   "outputs": [],
   "source": [
    "birth = 20220820"
   ]
  },
  {
   "cell_type": "code",
   "execution_count": 2,
   "id": "26713658",
   "metadata": {},
   "outputs": [],
   "source": [
    "birth = 2002"
   ]
  },
  {
   "cell_type": "code",
   "execution_count": 3,
   "id": "f7d51b62",
   "metadata": {},
   "outputs": [
    {
     "data": {
      "text/plain": [
       "22"
      ]
     },
     "execution_count": 3,
     "metadata": {},
     "output_type": "execute_result"
    }
   ],
   "source": [
    "2024 - int(birth)"
   ]
  },
  {
   "cell_type": "code",
   "execution_count": 4,
   "id": "68f6aabd",
   "metadata": {},
   "outputs": [
    {
     "ename": "SyntaxError",
     "evalue": "EOL while scanning string literal (4180730566.py, line 1)",
     "output_type": "error",
     "traceback": [
      "\u001b[1;36m  File \u001b[1;32m\"C:\\Users\\102\\AppData\\Local\\Temp\\ipykernel_27656\\4180730566.py\"\u001b[1;36m, line \u001b[1;32m1\u001b[0m\n\u001b[1;33m    print(2024 - int(birth), 'ㅅ\u001b[0m\n\u001b[1;37m                               ^\u001b[0m\n\u001b[1;31mSyntaxError\u001b[0m\u001b[1;31m:\u001b[0m EOL while scanning string literal\n"
     ]
    }
   ],
   "source": [
    "print(2024 - int(birth), 'ㅅ\n",
    "      ')"
   ]
  },
  {
   "cell_type": "code",
   "execution_count": 5,
   "id": "989e3f1b",
   "metadata": {},
   "outputs": [
    {
     "name": "stdout",
     "output_type": "stream",
     "text": [
      "이름을 입력하세요윤장혁\n"
     ]
    }
   ],
   "source": [
    "name = input(\"이름을 입력하세요\")"
   ]
  },
  {
   "cell_type": "code",
   "execution_count": 6,
   "id": "b0172e76",
   "metadata": {},
   "outputs": [
    {
     "name": "stdout",
     "output_type": "stream",
     "text": [
      "출생 년도를 입력하세요.2002\n"
     ]
    }
   ],
   "source": [
    "birth = input(\"출생 년도를 입력하세요.\")"
   ]
  },
  {
   "cell_type": "code",
   "execution_count": 7,
   "id": "69500692",
   "metadata": {},
   "outputs": [],
   "source": [
    "age = 2022 - int(birth)"
   ]
  },
  {
   "cell_type": "code",
   "execution_count": 8,
   "id": "6ede974e",
   "metadata": {},
   "outputs": [
    {
     "name": "stdout",
     "output_type": "stream",
     "text": [
      "안녕하세요!윤장혁님!20세이시군요!\n"
     ]
    }
   ],
   "source": [
    "print(\"안녕하세요!\" + name + '님!' + str(age) + '세이시군요!')"
   ]
  },
  {
   "cell_type": "code",
   "execution_count": 9,
   "id": "ef76e324",
   "metadata": {},
   "outputs": [],
   "source": [
    "import random"
   ]
  },
  {
   "cell_type": "code",
   "execution_count": 11,
   "id": "87b4b357",
   "metadata": {},
   "outputs": [],
   "source": [
    "dice = random.randint(1, 6)"
   ]
  },
  {
   "cell_type": "code",
   "execution_count": 12,
   "id": "d429bcfb",
   "metadata": {},
   "outputs": [
    {
     "name": "stdout",
     "output_type": "stream",
     "text": [
      "3\n"
     ]
    }
   ],
   "source": [
    "print(dice)"
   ]
  },
  {
   "cell_type": "code",
   "execution_count": 13,
   "id": "11ba5ca7",
   "metadata": {},
   "outputs": [],
   "source": [
    "import math"
   ]
  },
  {
   "cell_type": "code",
   "execution_count": 14,
   "id": "6df32e15",
   "metadata": {},
   "outputs": [
    {
     "name": "stdout",
     "output_type": "stream",
     "text": [
      "1.4142135623730951\n"
     ]
    }
   ],
   "source": [
    "print(math.sqrt(2))"
   ]
  },
  {
   "cell_type": "code",
   "execution_count": 15,
   "id": "fcbfbef0",
   "metadata": {},
   "outputs": [
    {
     "name": "stdout",
     "output_type": "stream",
     "text": [
      "2.0\n"
     ]
    }
   ],
   "source": [
    "print(math.sqrt(4))"
   ]
  },
  {
   "cell_type": "code",
   "execution_count": 16,
   "id": "475406fc",
   "metadata": {},
   "outputs": [
    {
     "data": {
      "text/plain": [
       "2.718281828459045"
      ]
     },
     "execution_count": 16,
     "metadata": {},
     "output_type": "execute_result"
    }
   ],
   "source": [
    "math.e\n"
   ]
  },
  {
   "cell_type": "code",
   "execution_count": 17,
   "id": "82e437cb",
   "metadata": {},
   "outputs": [
    {
     "data": {
      "text/plain": [
       "3.141592653589793"
      ]
     },
     "execution_count": 17,
     "metadata": {},
     "output_type": "execute_result"
    }
   ],
   "source": [
    "math.pi"
   ]
  },
  {
   "cell_type": "code",
   "execution_count": 19,
   "id": "e483efb1",
   "metadata": {},
   "outputs": [
    {
     "name": "stdout",
     "output_type": "stream",
     "text": [
      "0\n",
      "1\n",
      "2\n",
      "3\n",
      "4\n",
      "5\n",
      "6\n",
      "7\n",
      "8\n",
      "9\n"
     ]
    }
   ],
   "source": [
    "for num in range(10):\n",
    "    print(num)"
   ]
  },
  {
   "cell_type": "code",
   "execution_count": 20,
   "id": "5729382b",
   "metadata": {},
   "outputs": [
    {
     "name": "stdout",
     "output_type": "stream",
     "text": [
      "80\n",
      "70\n",
      "90\n",
      "100\n"
     ]
    }
   ],
   "source": [
    "test_score = [80,70,90,100]\n",
    "for score in test_score:\n",
    "    print(score)"
   ]
  },
  {
   "cell_type": "code",
   "execution_count": 22,
   "id": "fdcf6137",
   "metadata": {},
   "outputs": [
    {
     "name": "stdout",
     "output_type": "stream",
     "text": [
      "국어\n",
      "영어\n",
      "수학\n",
      "과학\n"
     ]
    }
   ],
   "source": [
    "test_name = [\"국어\", \"영어\", \"수학\", \"과학\"]\n",
    "for name in test_name:\n",
    "    print(name)"
   ]
  },
  {
   "cell_type": "code",
   "execution_count": 23,
   "id": "c95777c7",
   "metadata": {},
   "outputs": [
    {
     "name": "stdout",
     "output_type": "stream",
     "text": [
      "안녕하세요\n"
     ]
    }
   ],
   "source": [
    "if (10 > 0):\n",
    "    print(\"안녕하세요\")"
   ]
  },
  {
   "cell_type": "code",
   "execution_count": null,
   "id": "d138978d",
   "metadata": {},
   "outputs": [],
   "source": [
    "password = input('패스워드를 입력하세요')\n",
    "if(int(password) == 12345):\n",
    "    print('로그인 되었습니다')\n",
    "elif int(password) == 11111:\n",
    "    print(\"관리자 권한 필요\")\n",
    "else:\n",
    "    print('로그인 실패')"
   ]
  },
  {
   "cell_type": "code",
   "execution_count": null,
   "id": "a2a17a82",
   "metadata": {},
   "outputs": [],
   "source": [
    "arr2 = ['월','화','수','목','금']\n",
    "print(arr2[-1])\n",
    "print(arr2[-2])\n",
    "print(arr2[-3])\n",
    "print(arr2[-4])\n",
    "print(arr2[-5])\n",
    "print(arr2[-6])\n",
    "\n"
   ]
  },
  {
   "cell_type": "code",
   "execution_count": null,
   "id": "3501db0f",
   "metadata": {},
   "outputs": [],
   "source": [
    "arr2 = ['월','화','수','목','금']\n",
    "print(arr2[0:2])\n",
    "print(arr2[1:4])\n",
    "print(arr2[1:])\n",
    "print(arr2[:])\n"
   ]
  },
  {
   "cell_type": "code",
   "execution_count": null,
   "id": "1a9959fd",
   "metadata": {},
   "outputs": [],
   "source": [
    "arr1 = [1,2,3,4,5]\n",
    "print(arr1)\n",
    "print(len(arr1))\n",
    "arr1.append(6)\n",
    "print(arr1)\n",
    "print(len(arr1))"
   ]
  },
  {
   "cell_type": "code",
   "execution_count": null,
   "id": "46c5c991",
   "metadata": {},
   "outputs": [],
   "source": [
    "arr2 = ['월','화','수','목','금', '토']\n",
    "print(arr2)\n",
    "print(len(arr2))\n",
    "arr2.append(\"일\")\n",
    "print(arr2)\n",
    "print(len(arr2))"
   ]
  },
  {
   "cell_type": "code",
   "execution_count": 26,
   "id": "c2914482",
   "metadata": {},
   "outputs": [
    {
     "name": "stdout",
     "output_type": "stream",
     "text": [
      "두 수를 입력하세요1 3\n",
      "3\n"
     ]
    }
   ],
   "source": [
    "(a, b) = (input(\"두 수를 입력하세요\")).split(\" \")\n",
    "if int(a) > int(b):\n",
    "    print(a)\n",
    "else:\n",
    "    print(b)"
   ]
  }
 ],
 "metadata": {
  "kernelspec": {
   "display_name": "Python 3 (ipykernel)",
   "language": "python",
   "name": "python3"
  },
  "language_info": {
   "codemirror_mode": {
    "name": "ipython",
    "version": 3
   },
   "file_extension": ".py",
   "mimetype": "text/x-python",
   "name": "python",
   "nbconvert_exporter": "python",
   "pygments_lexer": "ipython3",
   "version": "3.9.13"
  }
 },
 "nbformat": 4,
 "nbformat_minor": 5
}
