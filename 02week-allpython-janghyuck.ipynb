{
 "cells": [
  {
   "cell_type": "code",
   "execution_count": 1,
   "id": "ec9f818e",
   "metadata": {},
   "outputs": [],
   "source": [
    "birth = 20220820"
   ]
  },
  {
   "cell_type": "code",
   "execution_count": 2,
   "id": "21eae89f",
   "metadata": {},
   "outputs": [],
   "source": [
    "birth = 2002"
   ]
  },
  {
   "cell_type": "code",
   "execution_count": 3,
   "id": "5f521cd7",
   "metadata": {},
   "outputs": [
    {
     "data": {
      "text/plain": [
       "22"
      ]
     },
     "execution_count": 3,
     "metadata": {},
     "output_type": "execute_result"
    }
   ],
   "source": [
    "2024 - int(birth)"
   ]
  },
  {
   "cell_type": "code",
   "execution_count": 4,
   "id": "cada5521",
   "metadata": {},
   "outputs": [
    {
     "ename": "SyntaxError",
     "evalue": "EOL while scanning string literal (4180730566.py, line 1)",
     "output_type": "error",
     "traceback": [
      "\u001b[1;36m  File \u001b[1;32m\"C:\\Users\\102\\AppData\\Local\\Temp\\ipykernel_27656\\4180730566.py\"\u001b[1;36m, line \u001b[1;32m1\u001b[0m\n\u001b[1;33m    print(2024 - int(birth), 'ㅅ\u001b[0m\n\u001b[1;37m                               ^\u001b[0m\n\u001b[1;31mSyntaxError\u001b[0m\u001b[1;31m:\u001b[0m EOL while scanning string literal\n"
     ]
    }
   ],
   "source": [
    "print(2024 - int(birth), 'ㅅ\n",
    "      ')"
   ]
  },
  {
   "cell_type": "code",
   "execution_count": 5,
   "id": "3f5b4689",
   "metadata": {},
   "outputs": [
    {
     "name": "stdout",
     "output_type": "stream",
     "text": [
      "이름을 입력하세요윤장혁\n"
     ]
    }
   ],
   "source": [
    "name = input(\"이름을 입력하세요\")"
   ]
  },
  {
   "cell_type": "code",
   "execution_count": 6,
   "id": "5b8ae6bb",
   "metadata": {},
   "outputs": [
    {
     "name": "stdout",
     "output_type": "stream",
     "text": [
      "출생 년도를 입력하세요.2002\n"
     ]
    }
   ],
   "source": [
    "birth = input(\"출생 년도를 입력하세요.\")"
   ]
  },
  {
   "cell_type": "code",
   "execution_count": 7,
   "id": "7636ff9d",
   "metadata": {},
   "outputs": [],
   "source": [
    "age = 2022 - int(birth)"
   ]
  },
  {
   "cell_type": "code",
   "execution_count": 8,
   "id": "2263d021",
   "metadata": {},
   "outputs": [
    {
     "name": "stdout",
     "output_type": "stream",
     "text": [
      "안녕하세요!윤장혁님!20세이시군요!\n"
     ]
    }
   ],
   "source": [
    "print(\"안녕하세요!\" + name + '님!' + str(age) + '세이시군요!')"
   ]
  },
  {
   "cell_type": "code",
   "execution_count": 9,
   "id": "3bde9264",
   "metadata": {},
   "outputs": [],
   "source": [
    "import random"
   ]
  },
  {
   "cell_type": "code",
   "execution_count": 11,
   "id": "beb5fa23",
   "metadata": {},
   "outputs": [],
   "source": [
    "dice = random.randint(1, 6)"
   ]
  },
  {
   "cell_type": "code",
   "execution_count": 12,
   "id": "e4ea0d01",
   "metadata": {},
   "outputs": [
    {
     "name": "stdout",
     "output_type": "stream",
     "text": [
      "3\n"
     ]
    }
   ],
   "source": [
    "print(dice)"
   ]
  },
  {
   "cell_type": "code",
   "execution_count": 13,
   "id": "94e5ca2a",
   "metadata": {},
   "outputs": [],
   "source": [
    "import math"
   ]
  },
  {
   "cell_type": "code",
   "execution_count": 14,
   "id": "aafbdc9c",
   "metadata": {},
   "outputs": [
    {
     "name": "stdout",
     "output_type": "stream",
     "text": [
      "1.4142135623730951\n"
     ]
    }
   ],
   "source": [
    "print(math.sqrt(2))"
   ]
  },
  {
   "cell_type": "code",
   "execution_count": 15,
   "id": "25d6ff6e",
   "metadata": {},
   "outputs": [
    {
     "name": "stdout",
     "output_type": "stream",
     "text": [
      "2.0\n"
     ]
    }
   ],
   "source": [
    "print(math.sqrt(4))"
   ]
  },
  {
   "cell_type": "code",
   "execution_count": 16,
   "id": "8881e3fb",
   "metadata": {},
   "outputs": [
    {
     "data": {
      "text/plain": [
       "2.718281828459045"
      ]
     },
     "execution_count": 16,
     "metadata": {},
     "output_type": "execute_result"
    }
   ],
   "source": [
    "math.e\n"
   ]
  },
  {
   "cell_type": "code",
   "execution_count": 17,
   "id": "ba536040",
   "metadata": {},
   "outputs": [
    {
     "data": {
      "text/plain": [
       "3.141592653589793"
      ]
     },
     "execution_count": 17,
     "metadata": {},
     "output_type": "execute_result"
    }
   ],
   "source": [
    "math.pi"
   ]
  },
  {
   "cell_type": "code",
   "execution_count": 19,
   "id": "39044253",
   "metadata": {},
   "outputs": [
    {
     "name": "stdout",
     "output_type": "stream",
     "text": [
      "0\n",
      "1\n",
      "2\n",
      "3\n",
      "4\n",
      "5\n",
      "6\n",
      "7\n",
      "8\n",
      "9\n"
     ]
    }
   ],
   "source": [
    "for num in range(10):\n",
    "    print(num)"
   ]
  },
  {
   "cell_type": "code",
   "execution_count": 20,
   "id": "4c8341e4",
   "metadata": {},
   "outputs": [
    {
     "name": "stdout",
     "output_type": "stream",
     "text": [
      "80\n",
      "70\n",
      "90\n",
      "100\n"
     ]
    }
   ],
   "source": [
    "test_score = [80,70,90,100]\n",
    "for score in test_score:\n",
    "    print(score)"
   ]
  },
  {
   "cell_type": "code",
   "execution_count": 22,
   "id": "fbee830e",
   "metadata": {},
   "outputs": [
    {
     "name": "stdout",
     "output_type": "stream",
     "text": [
      "국어\n",
      "영어\n",
      "수학\n",
      "과학\n"
     ]
    }
   ],
   "source": [
    "test_name = [\"국어\", \"영어\", \"수학\", \"과학\"]\n",
    "for name in test_name:\n",
    "    print(name)"
   ]
  },
  {
   "cell_type": "code",
   "execution_count": 23,
   "id": "b9cbfe0f",
   "metadata": {},
   "outputs": [
    {
     "name": "stdout",
     "output_type": "stream",
     "text": [
      "안녕하세요\n"
     ]
    }
   ],
   "source": [
    "if (10 > 0):\n",
    "    print(\"안녕하세요\")"
   ]
  },
  {
   "cell_type": "code",
   "execution_count": null,
   "id": "f849a253",
   "metadata": {},
   "outputs": [],
   "source": [
    "password = input('패스워드를 입력하세요')\n",
    "if(int(password) == 12345):\n",
    "    print('로그인 되었습니다')\n",
    "elif int(password) == 11111:\n",
    "    print(\"관리자 권한 필요\")\n",
    "else:\n",
    "    print('로그인 실패')"
   ]
  },
  {
   "cell_type": "code",
   "execution_count": null,
   "id": "1ec57220",
   "metadata": {},
   "outputs": [],
   "source": [
    "arr2 = ['월','화','수','목','금']\n",
    "print(arr2[-1])\n",
    "print(arr2[-2])\n",
    "print(arr2[-3])\n",
    "print(arr2[-4])\n",
    "print(arr2[-5])\n",
    "print(arr2[-6])\n",
    "\n"
   ]
  },
  {
   "cell_type": "code",
   "execution_count": null,
   "id": "490c51df",
   "metadata": {},
   "outputs": [],
   "source": [
    "arr2 = ['월','화','수','목','금']\n",
    "print(arr2[0:2])\n",
    "print(arr2[1:4])\n",
    "print(arr2[1:])\n",
    "print(arr2[:])\n"
   ]
  },
  {
   "cell_type": "code",
   "execution_count": null,
   "id": "308fddab",
   "metadata": {},
   "outputs": [],
   "source": [
    "arr1 = [1,2,3,4,5]\n",
    "print(arr1)\n",
    "print(len(arr1))\n",
    "arr1.append(6)\n",
    "print(arr1)\n",
    "print(len(arr1))"
   ]
  },
  {
   "cell_type": "code",
   "execution_count": null,
   "id": "bce0c2e7",
   "metadata": {},
   "outputs": [],
   "source": [
    "arr2 = ['월','화','수','목','금', '토']\n",
    "print(arr2)\n",
    "print(len(arr2))\n",
    "arr2.append(\"일\")\n",
    "print(arr2)\n",
    "print(len(arr2))"
   ]
  },
  {
   "cell_type": "code",
   "execution_count": null,
   "id": "a0a4f10d",
   "metadata": {},
   "outputs": [],
   "source": [
    "(a, b) = (input(\"첫 번째 숫자, 두 번째 숫자를 입력해 주세요\")).split(\" \")\n",
    "if int(a) > int(b):\n",
    "    print(a)\n",
    "else:\n",
    "    print(b)"
   ]
  },
  {
   "cell_type": "code",
   "execution_count": null,
   "id": "b7196009",
   "metadata": {},
   "outputs": [],
   "source": [
    "def celsius_to_fahreheit(celisius):\n",
    "    return (celsius * 9/5) + 32\n",
    "\n",
    "def killoimeters_tomiles(killmeters):\n",
    "    return killometers * 0.621371\n",
    "\n",
    "def pounds_to_killograms(pounds):\n",
    "    return pounds * 0.453592\n",
    "\n",
    "print('다음 중 원하는 변환을 선택하세요')\n",
    "print('1. 섭씨를 화씨로 변환')\n",
    "print('2. 킬로미터를 마일로 변환')\n",
    "print('3. 파운드를 킬로그램으로 변환')"
   ]
  },
  {
   "cell_type": "code",
   "execution_count": null,
   "id": "386a93bf",
   "metadata": {},
   "outputs": [],
   "source": []
  },
  {
   "cell_type": "code",
   "execution_count": null,
   "id": "c7fa6828",
   "metadata": {},
   "outputs": [],
   "source": []
  }
 ],
 "metadata": {
  "kernelspec": {
   "display_name": "Python 3 (ipykernel)",
   "language": "python",
   "name": "python3"
  },
  "language_info": {
   "codemirror_mode": {
    "name": "ipython",
    "version": 3
   },
   "file_extension": ".py",
   "mimetype": "text/x-python",
   "name": "python",
   "nbconvert_exporter": "python",
   "pygments_lexer": "ipython3",
   "version": "3.9.13"
  }
 },
 "nbformat": 4,
 "nbformat_minor": 5
}
